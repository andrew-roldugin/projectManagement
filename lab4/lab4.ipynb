{
 "cells": [
  {
   "cell_type": "code",
   "execution_count": 437,
   "outputs": [],
   "source": [
    "import json\n",
    "import math\n",
    "\n",
    "import numpy as np\n",
    "import pandas as pd"
   ],
   "metadata": {
    "collapsed": false,
    "pycharm": {
     "name": "#%%\n"
    }
   }
  },
  {
   "cell_type": "markdown",
   "source": [
    " 0. для работы с нечеткими числами создадим некоторый вспомогательный класс"
   ],
   "metadata": {
    "collapsed": false,
    "pycharm": {
     "name": "#%% md\n"
    }
   }
  },
  {
   "cell_type": "code",
   "execution_count": 438,
   "outputs": [],
   "source": [
    "class FuzzyNumber:\n",
    "    def __init__(self, a, b, c):\n",
    "        super(FuzzyNumber, self).__init__()\n",
    "        self.c = c\n",
    "        self.b = b\n",
    "        self.a = a\n",
    "\n",
    "    def str(self):\n",
    "        return f\"<{self.a}, {self.b}, {self.c}>\"\n",
    "\n",
    "    def __repr__(self):\n",
    "        return self.str()\n",
    "        # return f\"FuzzyNumber(a={self.a}, b={self.b}, c={self.c})\"\n",
    "\n",
    "    def to_json(self):\n",
    "        return {'a': self.a, 'b': self.b, 'c': self.c}\n",
    "\n",
    "    @classmethod\n",
    "    def from_json(cls, json_data):\n",
    "        return cls(**json_data)\n",
    "\n",
    "    def __ge__(self, other):\n",
    "        return self.c > other.c\n",
    "\n",
    "    def __lt__(self, other):\n",
    "        return self.c < other.c\n",
    "\n",
    "    def __truediv__(self, other):\n",
    "        if isinstance(other, float):\n",
    "            return FuzzyNumber(self.a / other, self.b / other, self.c / other)\n",
    "        return FuzzyNumber(self.a / other.a, self.b / other.b, self.c / other.c)\n",
    "\n",
    "    def __mul__(self, other):\n",
    "        return FuzzyNumber(self.a * other.a, self.b * other.b, self.c * other.c)\n",
    "\n",
    "    def __matmul__(self, other):\n",
    "        temp = math.hypot(self.a, other.a) + math.hypot(self.b, other.b) + math.hypot(self.c, other.c)\n",
    "        return math.sqrt(temp / 3)\n",
    "\n",
    "    def __add__(self, other):\n",
    "        return FuzzyNumber(self.a + other.a, self.b + other.b, self.c + other.c)\n",
    "\n",
    "    def __floordiv__(self, other):\n",
    "        if isinstance(other, float):\n",
    "            return FuzzyNumber(other / self.c, other / self.b, other / self.a)\n"
   ],
   "metadata": {
    "collapsed": false,
    "pycharm": {
     "name": "#%%\n"
    }
   }
  },
  {
   "cell_type": "markdown",
   "source": [
    "## 1. Подготовка данных:\n",
    " Необходимо собрать оценки от всех членов группы для каждого критерия и каждой альтернативы. Оценки должны быть представлены в форме нечетких чисел. Здесь, например, используются треугольные"
   ],
   "metadata": {
    "collapsed": false,
    "pycharm": {
     "name": "#%% md\n"
    }
   }
  },
  {
   "cell_type": "code",
   "execution_count": 439,
   "outputs": [],
   "source": [
    "def parse():\n",
    "    with open('data.json', 'r+') as file:\n",
    "        data = json.load(file)\n",
    "\n",
    "    for expert_ratings in data:\n",
    "        for k, alternatives in expert_ratings.items():\n",
    "            for k1, c in alternatives.items():\n",
    "                expert_ratings[k][k1] = FuzzyNumber.from_json(c)\n",
    "    return data"
   ],
   "metadata": {
    "collapsed": false,
    "pycharm": {
     "name": "#%%\n"
    }
   }
  },
  {
   "cell_type": "code",
   "execution_count": 440,
   "outputs": [],
   "source": [
    "alternatives = [\"Waterfall\", \"Agile\", 'PMI']\n",
    "criterias = [\"flexibility\", \"quality\", \"time\", \"cost\"]"
   ],
   "metadata": {
    "collapsed": false,
    "pycharm": {
     "name": "#%%\n"
    }
   }
  },
  {
   "cell_type": "markdown",
   "source": [
    "## 2. Агрегация оценок\n",
    "Следующим шагом необходимо агрегировать индивидуальные оценки членов группы для формирования коллективной оценочной матрицы"
   ],
   "metadata": {
    "collapsed": false,
    "pycharm": {
     "name": "#%% md\n"
    }
   }
  },
  {
   "cell_type": "code",
   "execution_count": 441,
   "outputs": [],
   "source": [
    "# Функция для агрегации оценок\n",
    "def aggregate_ratings(ratings):\n",
    "    # Создаем пустой DataFrame с индексами соответствующими критериям\n",
    "    df = pd.DataFrame(index=alternatives, columns=criterias)\n",
    "\n",
    "    for alternative in alternatives:\n",
    "        for criteria in criterias:\n",
    "            experts = len(ratings)\n",
    "            # Используем np.array вместо np.zeros\n",
    "            r_ = np.array([[0, 0, 0]] * experts, dtype=float)\n",
    "            for expert in range(experts):\n",
    "                fn = ratings[expert][alternative][criteria]\n",
    "                r_[expert, 0] = fn.a\n",
    "                r_[expert, 1] = fn.b\n",
    "                r_[expert, 2] = fn.c\n",
    "            # Используем min, mean и max вместо argmin, mean и argmax\n",
    "            cell = FuzzyNumber(np.min(r_[:, 0]), np.mean(r_[:, 1]), np.max(r_[:, 2]))\n",
    "            df.at[alternative, criteria] = cell  # Используйте at для обращения к элементам DataFrame\n",
    "\n",
    "    return df"
   ],
   "metadata": {
    "collapsed": false,
    "pycharm": {
     "name": "#%%\n"
    }
   }
  },
  {
   "cell_type": "markdown",
   "source": [],
   "metadata": {
    "collapsed": false,
    "pycharm": {
     "name": "#%% md\n"
    }
   }
  },
  {
   "cell_type": "code",
   "execution_count": 442,
   "outputs": [
    {
     "data": {
      "text/plain": "               flexibility           quality             time             cost\nWaterfall  <1.0, 3.0, 7.0>   <3.0, 5.5, 8.0>  <3.0, 5.0, 7.0>  <3.0, 5.5, 8.0>\nAgile      <6.0, 7.5, 9.0>   <6.0, 7.5, 9.0>  <1.0, 2.5, 8.0>  <1.0, 2.5, 8.0>\nPMI        <3.0, 6.5, 9.0>  <6.0, 7.75, 9.0>  <1.0, 1.0, 3.0>  <1.0, 4.0, 7.0>",
      "text/html": "<div>\n<style scoped>\n    .dataframe tbody tr th:only-of-type {\n        vertical-align: middle;\n    }\n\n    .dataframe tbody tr th {\n        vertical-align: top;\n    }\n\n    .dataframe thead th {\n        text-align: right;\n    }\n</style>\n<table border=\"1\" class=\"dataframe\">\n  <thead>\n    <tr style=\"text-align: right;\">\n      <th></th>\n      <th>flexibility</th>\n      <th>quality</th>\n      <th>time</th>\n      <th>cost</th>\n    </tr>\n  </thead>\n  <tbody>\n    <tr>\n      <th>Waterfall</th>\n      <td>&lt;1.0, 3.0, 7.0&gt;</td>\n      <td>&lt;3.0, 5.5, 8.0&gt;</td>\n      <td>&lt;3.0, 5.0, 7.0&gt;</td>\n      <td>&lt;3.0, 5.5, 8.0&gt;</td>\n    </tr>\n    <tr>\n      <th>Agile</th>\n      <td>&lt;6.0, 7.5, 9.0&gt;</td>\n      <td>&lt;6.0, 7.5, 9.0&gt;</td>\n      <td>&lt;1.0, 2.5, 8.0&gt;</td>\n      <td>&lt;1.0, 2.5, 8.0&gt;</td>\n    </tr>\n    <tr>\n      <th>PMI</th>\n      <td>&lt;3.0, 6.5, 9.0&gt;</td>\n      <td>&lt;6.0, 7.75, 9.0&gt;</td>\n      <td>&lt;1.0, 1.0, 3.0&gt;</td>\n      <td>&lt;1.0, 4.0, 7.0&gt;</td>\n    </tr>\n  </tbody>\n</table>\n</div>"
     },
     "execution_count": 442,
     "metadata": {},
     "output_type": "execute_result"
    }
   ],
   "source": [
    "df = aggregate_ratings(parse())\n",
    "df"
   ],
   "metadata": {
    "collapsed": false,
    "pycharm": {
     "name": "#%%\n"
    }
   }
  },
  {
   "cell_type": "markdown",
   "source": [
    "## 3.Нормализация агрегированной оценочной матрицы."
   ],
   "metadata": {
    "collapsed": false,
    "pycharm": {
     "name": "#%% md\n"
    }
   }
  },
  {
   "cell_type": "code",
   "execution_count": 443,
   "outputs": [
    {
     "data": {
      "text/plain": "array([9., 9., 3., 7.])"
     },
     "execution_count": 443,
     "metadata": {},
     "output_type": "execute_result"
    }
   ],
   "source": [
    "temp_1 = [fn.max().c for fn in df[[\"flexibility\", \"quality\"]].to_numpy().T]  # benefit criterias\n",
    "temp_2 = [fn.min().c for fn in df[[\"time\", \"cost\"]].to_numpy().T]  # cost criterias\n",
    "norm_coeffs = np.array(temp_1 + temp_2)\n",
    "norm_coeffs"
   ],
   "metadata": {
    "collapsed": false,
    "pycharm": {
     "name": "#%%\n"
    }
   }
  },
  {
   "cell_type": "code",
   "execution_count": 444,
   "outputs": [
    {
     "data": {
      "text/plain": "                                                 flexibility  \\\nWaterfall  <0.1111111111111111, 0.3333333333333333, 0.777...   \nAgile          <0.6666666666666666, 0.8333333333333334, 1.0>   \nPMI            <0.3333333333333333, 0.7222222222222222, 1.0>   \n\n                                                     quality  \\\nWaterfall  <0.3333333333333333, 0.6111111111111112, 0.888...   \nAgile          <0.6666666666666666, 0.8333333333333334, 1.0>   \nPMI            <0.6666666666666666, 0.8611111111111112, 1.0>   \n\n                                      time  \\\nWaterfall  <0.42857142857142855, 0.6, 1.0>   \nAgile                    <0.375, 1.2, 3.0>   \nPMI                        <1.0, 3.0, 3.0>   \n\n                                                      cost  \nWaterfall  <0.875, 1.2727272727272727, 2.3333333333333335>  \nAgile                                    <0.875, 2.8, 7.0>  \nPMI                                       <1.0, 1.75, 7.0>  ",
      "text/html": "<div>\n<style scoped>\n    .dataframe tbody tr th:only-of-type {\n        vertical-align: middle;\n    }\n\n    .dataframe tbody tr th {\n        vertical-align: top;\n    }\n\n    .dataframe thead th {\n        text-align: right;\n    }\n</style>\n<table border=\"1\" class=\"dataframe\">\n  <thead>\n    <tr style=\"text-align: right;\">\n      <th></th>\n      <th>flexibility</th>\n      <th>quality</th>\n      <th>time</th>\n      <th>cost</th>\n    </tr>\n  </thead>\n  <tbody>\n    <tr>\n      <th>Waterfall</th>\n      <td>&lt;0.1111111111111111, 0.3333333333333333, 0.777...</td>\n      <td>&lt;0.3333333333333333, 0.6111111111111112, 0.888...</td>\n      <td>&lt;0.42857142857142855, 0.6, 1.0&gt;</td>\n      <td>&lt;0.875, 1.2727272727272727, 2.3333333333333335&gt;</td>\n    </tr>\n    <tr>\n      <th>Agile</th>\n      <td>&lt;0.6666666666666666, 0.8333333333333334, 1.0&gt;</td>\n      <td>&lt;0.6666666666666666, 0.8333333333333334, 1.0&gt;</td>\n      <td>&lt;0.375, 1.2, 3.0&gt;</td>\n      <td>&lt;0.875, 2.8, 7.0&gt;</td>\n    </tr>\n    <tr>\n      <th>PMI</th>\n      <td>&lt;0.3333333333333333, 0.7222222222222222, 1.0&gt;</td>\n      <td>&lt;0.6666666666666666, 0.8611111111111112, 1.0&gt;</td>\n      <td>&lt;1.0, 3.0, 3.0&gt;</td>\n      <td>&lt;1.0, 1.75, 7.0&gt;</td>\n    </tr>\n  </tbody>\n</table>\n</div>"
     },
     "execution_count": 444,
     "metadata": {},
     "output_type": "execute_result"
    }
   ],
   "source": [
    "p1 = df[[\"flexibility\", \"quality\"]] / temp_1\n",
    "p2 = df[[\"time\", \"cost\"]] // temp_2\n",
    "normalized_df = pd.merge(p1, p2, left_index=True, right_index=True)\n",
    "normalized_df"
   ],
   "metadata": {
    "collapsed": false,
    "pycharm": {
     "name": "#%%\n"
    }
   }
  },
  {
   "cell_type": "code",
   "execution_count": 445,
   "outputs": [],
   "source": [
    "normalized_matrix = normalized_df.to_numpy()"
   ],
   "metadata": {
    "collapsed": false,
    "pycharm": {
     "name": "#%%\n"
    }
   }
  },
  {
   "cell_type": "markdown",
   "source": [
    "## 4. Вычисление взвешенной нормализованной матрицы путем умножения на веса критериев"
   ],
   "metadata": {
    "collapsed": false,
    "pycharm": {
     "name": "#%% md\n"
    }
   }
  },
  {
   "cell_type": "code",
   "execution_count": 446,
   "outputs": [
    {
     "data": {
      "text/plain": "                                                 flexibility  \\\nWaterfall  <0.5555555555555556, 2.333333333333333, 6.2222...   \nAgile            <3.333333333333333, 5.833333333333334, 8.0>   \nPMI             <1.6666666666666665, 5.055555555555555, 8.0>   \n\n                                                     quality  \\\nWaterfall  <2.333333333333333, 4.277777777777779, 7.11111...   \nAgile            <4.666666666666666, 5.833333333333334, 8.0>   \nPMI              <4.666666666666666, 6.027777777777779, 8.0>   \n\n                                    time  \\\nWaterfall  <2.571428571428571, 4.2, 9.0>   \nAgile                  <2.25, 8.4, 27.0>   \nPMI                    <6.0, 21.0, 27.0>   \n\n                                                     cost  \nWaterfall  <4.375, 7.636363636363637, 16.333333333333336>  \nAgile                   <4.375, 16.799999999999997, 49.0>  \nPMI                                     <5.0, 10.5, 49.0>  ",
      "text/html": "<div>\n<style scoped>\n    .dataframe tbody tr th:only-of-type {\n        vertical-align: middle;\n    }\n\n    .dataframe tbody tr th {\n        vertical-align: top;\n    }\n\n    .dataframe thead th {\n        text-align: right;\n    }\n</style>\n<table border=\"1\" class=\"dataframe\">\n  <thead>\n    <tr style=\"text-align: right;\">\n      <th></th>\n      <th>flexibility</th>\n      <th>quality</th>\n      <th>time</th>\n      <th>cost</th>\n    </tr>\n  </thead>\n  <tbody>\n    <tr>\n      <th>Waterfall</th>\n      <td>&lt;0.5555555555555556, 2.333333333333333, 6.2222...</td>\n      <td>&lt;2.333333333333333, 4.277777777777779, 7.11111...</td>\n      <td>&lt;2.571428571428571, 4.2, 9.0&gt;</td>\n      <td>&lt;4.375, 7.636363636363637, 16.333333333333336&gt;</td>\n    </tr>\n    <tr>\n      <th>Agile</th>\n      <td>&lt;3.333333333333333, 5.833333333333334, 8.0&gt;</td>\n      <td>&lt;4.666666666666666, 5.833333333333334, 8.0&gt;</td>\n      <td>&lt;2.25, 8.4, 27.0&gt;</td>\n      <td>&lt;4.375, 16.799999999999997, 49.0&gt;</td>\n    </tr>\n    <tr>\n      <th>PMI</th>\n      <td>&lt;1.6666666666666665, 5.055555555555555, 8.0&gt;</td>\n      <td>&lt;4.666666666666666, 6.027777777777779, 8.0&gt;</td>\n      <td>&lt;6.0, 21.0, 27.0&gt;</td>\n      <td>&lt;5.0, 10.5, 49.0&gt;</td>\n    </tr>\n  </tbody>\n</table>\n</div>"
     },
     "execution_count": 446,
     "metadata": {},
     "output_type": "execute_result"
    }
   ],
   "source": [
    "weights = [FuzzyNumber(5, 7, 8), FuzzyNumber(7, 7, 8), FuzzyNumber(6, 7, 9), FuzzyNumber(5, 6, 7)]\n",
    "weighted_matrix = normalized_matrix * weights\n",
    "df = pd.DataFrame(weighted_matrix, index=alternatives, columns=criterias)\n",
    "df"
   ],
   "metadata": {
    "collapsed": false,
    "pycharm": {
     "name": "#%%\n"
    }
   }
  },
  {
   "cell_type": "markdown",
   "source": [
    "## 5. Вычисление идеальных и анти-идеальных решений"
   ],
   "metadata": {
    "collapsed": false,
    "pycharm": {
     "name": "#%% md\n"
    }
   }
  },
  {
   "cell_type": "code",
   "execution_count": 447,
   "outputs": [
    {
     "data": {
      "text/plain": "                                                 flexibility  \\\nWaterfall  <0.5555555555555556, 2.333333333333333, 6.2222...   \nAgile            <3.333333333333333, 5.833333333333334, 8.0>   \nPMI             <1.6666666666666665, 5.055555555555555, 8.0>   \nA*              <1.6666666666666665, 5.055555555555555, 8.0>   \nA-         <0.5555555555555556, 2.333333333333333, 6.2222...   \n\n                                                     quality  \\\nWaterfall  <2.333333333333333, 4.277777777777779, 7.11111...   \nAgile            <4.666666666666666, 5.833333333333334, 8.0>   \nPMI              <4.666666666666666, 6.027777777777779, 8.0>   \nA*               <4.666666666666666, 6.027777777777779, 8.0>   \nA-         <2.333333333333333, 4.277777777777779, 7.11111...   \n\n                                    time  \\\nWaterfall  <2.571428571428571, 4.2, 9.0>   \nAgile                  <2.25, 8.4, 27.0>   \nPMI                    <6.0, 21.0, 27.0>   \nA*                     <6.0, 21.0, 27.0>   \nA-         <2.571428571428571, 4.2, 9.0>   \n\n                                                     cost  \nWaterfall  <4.375, 7.636363636363637, 16.333333333333336>  \nAgile                   <4.375, 16.799999999999997, 49.0>  \nPMI                                     <5.0, 10.5, 49.0>  \nA*                                      <5.0, 10.5, 49.0>  \nA-         <4.375, 7.636363636363637, 16.333333333333336>  ",
      "text/html": "<div>\n<style scoped>\n    .dataframe tbody tr th:only-of-type {\n        vertical-align: middle;\n    }\n\n    .dataframe tbody tr th {\n        vertical-align: top;\n    }\n\n    .dataframe thead th {\n        text-align: right;\n    }\n</style>\n<table border=\"1\" class=\"dataframe\">\n  <thead>\n    <tr style=\"text-align: right;\">\n      <th></th>\n      <th>flexibility</th>\n      <th>quality</th>\n      <th>time</th>\n      <th>cost</th>\n    </tr>\n  </thead>\n  <tbody>\n    <tr>\n      <th>Waterfall</th>\n      <td>&lt;0.5555555555555556, 2.333333333333333, 6.2222...</td>\n      <td>&lt;2.333333333333333, 4.277777777777779, 7.11111...</td>\n      <td>&lt;2.571428571428571, 4.2, 9.0&gt;</td>\n      <td>&lt;4.375, 7.636363636363637, 16.333333333333336&gt;</td>\n    </tr>\n    <tr>\n      <th>Agile</th>\n      <td>&lt;3.333333333333333, 5.833333333333334, 8.0&gt;</td>\n      <td>&lt;4.666666666666666, 5.833333333333334, 8.0&gt;</td>\n      <td>&lt;2.25, 8.4, 27.0&gt;</td>\n      <td>&lt;4.375, 16.799999999999997, 49.0&gt;</td>\n    </tr>\n    <tr>\n      <th>PMI</th>\n      <td>&lt;1.6666666666666665, 5.055555555555555, 8.0&gt;</td>\n      <td>&lt;4.666666666666666, 6.027777777777779, 8.0&gt;</td>\n      <td>&lt;6.0, 21.0, 27.0&gt;</td>\n      <td>&lt;5.0, 10.5, 49.0&gt;</td>\n    </tr>\n    <tr>\n      <th>A*</th>\n      <td>&lt;1.6666666666666665, 5.055555555555555, 8.0&gt;</td>\n      <td>&lt;4.666666666666666, 6.027777777777779, 8.0&gt;</td>\n      <td>&lt;6.0, 21.0, 27.0&gt;</td>\n      <td>&lt;5.0, 10.5, 49.0&gt;</td>\n    </tr>\n    <tr>\n      <th>A-</th>\n      <td>&lt;0.5555555555555556, 2.333333333333333, 6.2222...</td>\n      <td>&lt;2.333333333333333, 4.277777777777779, 7.11111...</td>\n      <td>&lt;2.571428571428571, 4.2, 9.0&gt;</td>\n      <td>&lt;4.375, 7.636363636363637, 16.333333333333336&gt;</td>\n    </tr>\n  </tbody>\n</table>\n</div>"
     },
     "execution_count": 447,
     "metadata": {},
     "output_type": "execute_result"
    }
   ],
   "source": [
    "A_star = [fn.max() for fn in df.to_numpy().T]\n",
    "A_minus = [fn.min() for fn in df.to_numpy().T]\n",
    "a_df = pd.DataFrame([A_star, A_minus], index=['A*', 'A-'], columns=criterias)\n",
    "pd.concat([df, a_df], ignore_index=False)"
   ],
   "metadata": {
    "collapsed": false,
    "pycharm": {
     "name": "#%%\n"
    }
   }
  },
  {
   "cell_type": "markdown",
   "source": [
    "## 6. Расчета расстояний и определение относительной близости к идеальному решению для каждой альтернативы."
   ],
   "metadata": {
    "collapsed": false,
    "pycharm": {
     "name": "#%% md\n"
    }
   }
  },
  {
   "cell_type": "code",
   "execution_count": 448,
   "outputs": [],
   "source": [
    "d_star = [sum([weighted_matrix[i][j] @ vj_star for j, vj_star in enumerate(A_star)]) for i in range(len(alternatives))]\n",
    "d_minus = [sum([weighted_matrix[i][j] @ vj_minus for j, vj_minus in enumerate(A_minus)]) for i in range(len(alternatives))]"
   ],
   "metadata": {
    "collapsed": false,
    "pycharm": {
     "name": "#%%\n"
    }
   }
  },
  {
   "cell_type": "code",
   "execution_count": 449,
   "outputs": [],
   "source": [
    "d_star = np.array(d_star)\n",
    "d_minus = np.array(d_minus)"
   ],
   "metadata": {
    "collapsed": false,
    "pycharm": {
     "name": "#%%\n"
    }
   }
  },
  {
   "cell_type": "code",
   "execution_count": 450,
   "outputs": [],
   "source": [
    "CC = d_minus / (d_minus + d_star)\n",
    "ranks = np.argsort(CC)[::-1] + 1"
   ],
   "metadata": {
    "collapsed": false,
    "pycharm": {
     "name": "#%%\n"
    }
   }
  },
  {
   "cell_type": "code",
   "execution_count": 451,
   "outputs": [
    {
     "data": {
      "text/plain": "                  d*         d-        CC  Rank\nWaterfall  14.410475  10.997861  0.432845   3.0\nAgile      16.098047  14.098849  0.466897   2.0\nPMI        16.162526  14.410475  0.471346   1.0",
      "text/html": "<div>\n<style scoped>\n    .dataframe tbody tr th:only-of-type {\n        vertical-align: middle;\n    }\n\n    .dataframe tbody tr th {\n        vertical-align: top;\n    }\n\n    .dataframe thead th {\n        text-align: right;\n    }\n</style>\n<table border=\"1\" class=\"dataframe\">\n  <thead>\n    <tr style=\"text-align: right;\">\n      <th></th>\n      <th>d*</th>\n      <th>d-</th>\n      <th>CC</th>\n      <th>Rank</th>\n    </tr>\n  </thead>\n  <tbody>\n    <tr>\n      <th>Waterfall</th>\n      <td>14.410475</td>\n      <td>10.997861</td>\n      <td>0.432845</td>\n      <td>3.0</td>\n    </tr>\n    <tr>\n      <th>Agile</th>\n      <td>16.098047</td>\n      <td>14.098849</td>\n      <td>0.466897</td>\n      <td>2.0</td>\n    </tr>\n    <tr>\n      <th>PMI</th>\n      <td>16.162526</td>\n      <td>14.410475</td>\n      <td>0.471346</td>\n      <td>1.0</td>\n    </tr>\n  </tbody>\n</table>\n</div>"
     },
     "execution_count": 451,
     "metadata": {},
     "output_type": "execute_result"
    }
   ],
   "source": [
    "final_df = pd.DataFrame(np.array([d_star, d_minus, CC, ranks]).T, index=alternatives, columns=['d*', 'd-', 'CC', 'Rank'])\n",
    "final_df"
   ],
   "metadata": {
    "collapsed": false,
    "pycharm": {
     "name": "#%%\n"
    }
   }
  },
  {
   "cell_type": "code",
   "execution_count": 451,
   "outputs": [],
   "source": [],
   "metadata": {
    "collapsed": false,
    "pycharm": {
     "name": "#%%\n"
    }
   }
  }
 ],
 "metadata": {
  "kernelspec": {
   "display_name": "Python 3",
   "language": "python",
   "name": "python3"
  },
  "language_info": {
   "codemirror_mode": {
    "name": "ipython",
    "version": 2
   },
   "file_extension": ".py",
   "mimetype": "text/x-python",
   "name": "python",
   "nbconvert_exporter": "python",
   "pygments_lexer": "ipython2",
   "version": "2.7.6"
  }
 },
 "nbformat": 4,
 "nbformat_minor": 0
}